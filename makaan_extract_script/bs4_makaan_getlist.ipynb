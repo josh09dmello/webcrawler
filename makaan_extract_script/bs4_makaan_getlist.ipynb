{
 "cells": [
  {
   "cell_type": "code",
   "execution_count": 3,
   "metadata": {},
   "outputs": [],
   "source": [
    "import requests\n",
    "from bs4 import BeautifulSoup\n",
    "import csv\n",
    "\n",
    "# Define the CSV file and write the header\n",
    "csv_file = 'delhi_property_listings.csv'\n",
    "with open(csv_file, mode='w', newline='', encoding='utf-8') as file:\n",
    "    writer = csv.writer(file)\n",
    "    writer.writerow([\"Project Data Link Name\", \"Listing Href Link\"])\n",
    "\n",
    "# Loop through pages and scrape data\n",
    "for i in range(1, 2820):\n",
    "    url = 'https://www.makaan.com/delhi-residential-property/buy-property-in-delhi-city?page=' + str(i)\n",
    "    page = requests.get(url, timeout=20)\n",
    "    soup = BeautifulSoup(page.text, 'html.parser')\n",
    "    \n",
    "    for each_text in soup.find_all('div', {\"class\": \"title-line-wrap\"}):\n",
    "        listing_href_link = ''\n",
    "        project_data_link_name = ''\n",
    "        \n",
    "        # Extract data-link-name and href from the listing link\n",
    "        listing_link = each_text.find('a', {\"data-type\": \"listing-link\"})\n",
    "        if listing_link:\n",
    "            listing_href_link = listing_link.get('href')\n",
    "        \n",
    "        # Extract data-link-name from the project name link\n",
    "        project_link = each_text.find('a', {\"class\": \"projName\"})\n",
    "        if project_link:\n",
    "            project_data_link_name = project_link.get('data-link-name')\n",
    "        \n",
    "        # Write the data to the CSV file\n",
    "        with open(csv_file, mode='a', newline='', encoding='utf-8') as file:\n",
    "            writer = csv.writer(file)\n",
    "            writer.writerow([project_data_link_name, listing_href_link])\n"
   ]
  }
 ],
 "metadata": {
  "kernelspec": {
   "display_name": "base",
   "language": "python",
   "name": "python3"
  },
  "language_info": {
   "codemirror_mode": {
    "name": "ipython",
    "version": 3
   },
   "file_extension": ".py",
   "mimetype": "text/x-python",
   "name": "python",
   "nbconvert_exporter": "python",
   "pygments_lexer": "ipython3",
   "version": "3.11.5"
  }
 },
 "nbformat": 4,
 "nbformat_minor": 2
}
